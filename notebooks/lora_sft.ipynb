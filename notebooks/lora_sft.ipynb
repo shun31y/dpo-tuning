{
 "cells": [
  {
   "cell_type": "code",
   "execution_count": 1,
   "id": "86a6b029-bf1f-4340-a63e-0265406aa37b",
   "metadata": {},
   "outputs": [],
   "source": [
    "import sys\n",
    "sys.path.append('..')\n",
    "\n",
    "import torch\n",
    "import transformers\n",
    "import peft\n",
    "import accelerate\n",
    "import datasets\n",
    "import copy\n",
    "import wandb"
   ]
  },
  {
   "cell_type": "code",
   "execution_count": 2,
   "id": "993662f5-e531-4d52-9f02-71bdfd0ac5ed",
   "metadata": {},
   "outputs": [],
   "source": [
    "from src import settings\n",
    "from utils.measure_resource import gpu_information\n",
    "from torch.nn.utils.rnn import pad_sequence\n",
    "from transformers import AutoModelForCausalLM, AutoTokenizer\n",
    "from transformers import Trainer, TrainingArguments\n",
    "from tqdm import tqdm\n",
    "from torch.utils.data import Dataset\n",
    "wandb_api_key = settings.WANDB_API_KEY"
   ]
  },
  {
   "cell_type": "code",
   "execution_count": null,
   "id": "21ccf2b5-a463-479c-a23d-a52af75910c6",
   "metadata": {},
   "outputs": [],
   "source": [
    "gpu_information()"
   ]
  },
  {
   "cell_type": "code",
   "execution_count": 5,
   "id": "25a67361-728d-4a82-b2ec-e15997ad295f",
   "metadata": {},
   "outputs": [],
   "source": [
    "base_model_name = 'line-corporation/japanese-large-lm-3.6b-instruction-sft'"
   ]
  },
  {
   "cell_type": "code",
   "execution_count": null,
   "id": "a440e60d-a4e9-485e-b6cf-545d263c411d",
   "metadata": {},
   "outputs": [],
   "source": [
    "tokenizer = AutoTokenizer.from_pretrained(base_model_name, use_fast=False)\n",
    "base_model = AutoModelForCausalLM.from_pretrained(base_model_name, device_map = 'auto')"
   ]
  },
  {
   "cell_type": "code",
   "execution_count": null,
   "id": "eedfb573-d36e-4cf4-909a-31bc6cb70f58",
   "metadata": {},
   "outputs": [],
   "source": [
    "for param in base_model.parameters():\n",
    "    # ベースモデルのパラメータは勾配計算の対象外とします。\n",
    "    param.requires_grad = False\n",
    "    # 学習に使用するレイヤーのパラメータの型を float32 にして精度を上げます。\n",
    "    if param.ndim == 1:\n",
    "        param.data = param.data.to(torch.float32)\n",
    "\n",
    "# メモリを節約するために、Gradient Checkpointing アルゴリズムを有効化します。\n",
    "base_model.gradient_checkpointing_enable()\n",
    "\n",
    "# モデルの重みを固定したままアダプターの重みを調整するために、入力埋め込みグラデーションを有効化します。\n",
    "base_model.enable_input_require_grads()\n",
    "\n",
    "class CastOutputToFloat(torch.nn.Sequential):\n",
    "   def forward(self, x):\n",
    "      return super().forward(x).to(torch.float32)\n",
    "\n",
    "base_model.embed_out = CastOutputToFloat(base_model.embed_out)\n",
    "\n",
    "print(base_model)"
   ]
  },
  {
   "cell_type": "code",
   "execution_count": 8,
   "id": "5350ebb4-ab2c-448d-9c5a-73689b2498e8",
   "metadata": {},
   "outputs": [],
   "source": [
    "peft_config = peft.LoraConfig(\n",
    "    r=256,\n",
    "    lora_alpha=32,\n",
    "    target_modules=['query_key_value'],\n",
    "    lora_dropout=0.05,\n",
    "    bias='none',\n",
    "    fan_in_fan_out=False,\n",
    "    task_type=peft.TaskType.CAUSAL_LM\n",
    ")"
   ]
  },
  {
   "cell_type": "code",
   "execution_count": null,
   "id": "c17f95db-db15-4acb-bb4e-d27c5e5e1fbf",
   "metadata": {},
   "outputs": [],
   "source": [
    "peft_model = peft.get_peft_model(base_model, peft_config)\n",
    "peft_model.print_trainable_parameters()"
   ]
  },
  {
   "cell_type": "code",
   "execution_count": 10,
   "id": "5f214ab0-c004-4fca-88a8-7c8a07986955",
   "metadata": {},
   "outputs": [],
   "source": [
    "dataset_name = 'kunishou/databricks-dolly-15k-ja'\n",
    "dataset = datasets.load_dataset(dataset_name)"
   ]
  },
  {
   "cell_type": "code",
   "execution_count": 11,
   "id": "bb15a725-110a-4f3f-bd3d-8ecd749a3207",
   "metadata": {},
   "outputs": [],
   "source": [
    "dolly_ja = list(dataset['train'])"
   ]
  },
  {
   "cell_type": "code",
   "execution_count": 12,
   "id": "1d37776f-3509-4afd-9a41-88a7bebfd514",
   "metadata": {},
   "outputs": [],
   "source": [
    "PROMPT_DICT = {\n",
    "    \"prompt_input\": (\n",
    "        \"以下は、タスクを説明する指示と、文脈のある入力の組み合わせです。\"\n",
    "        \"要求を適切に満たす応答を書きなさい。\\n\\n\"\n",
    "        \"### 指示:\\n{instruction}\\n\\n### 入力:{input}\\n\\n### 応答:\"\n",
    "    ),\n",
    "    \"prompt_no_input\": (\n",
    "        \"以下は、タスクを説明する指示です。\"\n",
    "        \"要求を適切に満たす応答を書きなさい。\\n\\n\"\n",
    "        \"### 指示:\\n{instruction}\\n\\n### 応答:\"\n",
    "    )\n",
    "}"
   ]
  },
  {
   "cell_type": "code",
   "execution_count": 13,
   "id": "02aac17e-97fa-4b9e-acac-3f7a84f75b3a",
   "metadata": {},
   "outputs": [],
   "source": [
    "class InstructDataset(Dataset):\n",
    "    def __init__(self, json_list, tokenizer, ignore_index=-100):\n",
    "        self.tokenizer = tokenizer\n",
    "        self.ignore_index = ignore_index\n",
    "        self.features = []\n",
    "        \n",
    "        for j in tqdm(json_list):\n",
    "            # open_qaなど文脈情報が必要ない場合はinputカラムがないため、\n",
    "            # inputカラムありなしでテンプレート文を分けている。\n",
    "            if 'input' in j:\n",
    "                source_text = PROMPT_DICT['prompt_input'].format_map(j)\n",
    "            else:\n",
    "                source_text = PROMPT_DICT['prompt_no_input'].format_map(j)\n",
    "            \n",
    "            # 指示文と回答文を結合し、文末にEOSトークンを挿入\n",
    "            example_text = source_text + j['output'] + self.tokenizer.eos_token\n",
    "            \n",
    "            # 指示文のみ（「以下は、タスクを〜### 応答:」まで）をtokenize\n",
    "            # ほしいのは指示文のlength\n",
    "            source_tokenized = self.tokenizer(\n",
    "                source_text,\n",
    "                padding='longest',\n",
    "                truncation=True,\n",
    "                max_length=1024,\n",
    "                return_length=True,\n",
    "                return_tensors='pt'\n",
    "            )\n",
    "            \n",
    "            # 指示文と回答文を全てtokenize\n",
    "            example_tokenized = self.tokenizer(\n",
    "                example_text, \n",
    "                padding='longest', \n",
    "                truncation=True, \n",
    "                max_length=1024, \n",
    "                return_tensors='pt'\n",
    "            )\n",
    "            \n",
    "            input_ids = example_tokenized['input_ids'][0]\n",
    "            \n",
    "            # LLMが生成してほしい正解の文章として入力文をそのままコピーする\n",
    "            labels = copy.deepcopy(input_ids)\n",
    "            \n",
    "            # 指示文までの長さ\n",
    "            source_len = source_tokenized['length'][0]\n",
    "            \n",
    "            # LLMに生成してほしい正解文章に指示文も含まれているので、\n",
    "            # 指示文のところはCrossEntropyLossの損失を計算をしないようにIGNORE_INDEXとして-100で埋める\n",
    "            labels[:source_len] = self.ignore_index\n",
    "            \n",
    "            self.features.append({\n",
    "                'input_ids': input_ids,\n",
    "                'labels': labels\n",
    "            })\n",
    "    \n",
    "    def __len__(self):\n",
    "        return len(self.features)\n",
    "    \n",
    "    def __getitem__(self, idx):\n",
    "        return self.features[idx]"
   ]
  },
  {
   "cell_type": "code",
   "execution_count": 14,
   "id": "74fdfd32-680b-4639-a649-a60bc8f7c65a",
   "metadata": {},
   "outputs": [],
   "source": [
    "class InstructCollator():\n",
    "    def __init__(self, tokenizer, ignore_index=-100):\n",
    "        self.tokenizer = tokenizer\n",
    "        self.ignore_index = -100\n",
    "\n",
    "    def __call__(self, examples):\n",
    "        input_batch = []\n",
    "        label_batch = []\n",
    "        for example in examples:\n",
    "            input_batch.append(example['input_ids'])\n",
    "            label_batch.append(example['labels'])\n",
    "        \n",
    "        input_ids = pad_sequence(\n",
    "            input_batch, batch_first=True, padding_value=self.tokenizer.pad_token_id\n",
    "        )\n",
    "\n",
    "        # labelsのpaddingトークンは先程と同様にignore_indexである-100で埋める\n",
    "        labels = pad_sequence(\n",
    "            label_batch, batch_first=True, padding_value=self.ignore_index\n",
    "        )\n",
    "\n",
    "        # attention_maskはbool値でもいいらしい\n",
    "        attention_mask = input_ids.ne(self.tokenizer.pad_token_id)\n",
    "            \n",
    "        return {\n",
    "            'input_ids': input_ids,\n",
    "            'labels': labels,\n",
    "            'attention_mask': attention_mask\n",
    "        }"
   ]
  },
  {
   "cell_type": "code",
   "execution_count": null,
   "id": "b3b1223e-7d43-4936-8157-834a9bd5671d",
   "metadata": {},
   "outputs": [],
   "source": [
    "dataset =InstructDataset(dolly_ja, tokenizer)\n",
    "collator = InstructCollator(tokenizer)"
   ]
  },
  {
   "cell_type": "code",
   "execution_count": null,
   "id": "5e5e469b-b881-42cf-8306-5f29a7717fee",
   "metadata": {},
   "outputs": [],
   "source": [
    "wandb.login(\n",
    "    key = wandb_api_key\n",
    ")"
   ]
  },
  {
   "cell_type": "code",
   "execution_count": 23,
   "id": "a4917bcb-506d-42a0-a220-1fdf5f98ddfc",
   "metadata": {},
   "outputs": [],
   "source": [
    "training_args = transformers.TrainingArguments(\n",
    "    per_device_train_batch_size=2,\n",
    "    gradient_accumulation_steps=8,\n",
    "    warmup_steps=100,\n",
    "    learning_rate=2e-4,\n",
    "    fp16=True,\n",
    "    num_train_epochs=2,\n",
    "    save_strategy=\"steps\",\n",
    "    save_steps=100,\n",
    "    output_dir=\".checkpoints\",\n",
    "    eval_strategy=\"no\",\n",
    "    logging_dir=\"logs\",\n",
    "    logging_steps=10,\n",
    "    push_to_hub=False,\n",
    "    report_to=\"wandb\"\n",
    ")"
   ]
  },
  {
   "cell_type": "code",
   "execution_count": 24,
   "id": "b4013690-b3b7-4045-afd7-6a1544d8e716",
   "metadata": {},
   "outputs": [],
   "source": [
    "trainer = transformers.Trainer(\n",
    "    model=peft_model,\n",
    "    train_dataset=dataset,\n",
    "    args=training_args,\n",
    "    data_collator=collator,\n",
    ")"
   ]
  },
  {
   "cell_type": "code",
   "execution_count": 25,
   "id": "e60517b4-210a-49eb-a4cd-191ef3693363",
   "metadata": {},
   "outputs": [],
   "source": [
    "peft_model.config.use_cache = False"
   ]
  },
  {
   "cell_type": "code",
   "execution_count": 26,
   "id": "bd06e184-796f-4152-b7a0-af12789cc178",
   "metadata": {},
   "outputs": [],
   "source": [
    "checkpoint = None"
   ]
  },
  {
   "cell_type": "code",
   "execution_count": null,
   "id": "43a9df95-a0af-4fb7-add4-74576b99ac33",
   "metadata": {},
   "outputs": [],
   "source": [
    "trainer.train(checkpoint)\n",
    "peft_model.config.use_cache = True"
   ]
  },
  {
   "cell_type": "code",
   "execution_count": null,
   "id": "84e0747f-e4f8-4c7e-bb35-c752a4a6356a",
   "metadata": {},
   "outputs": [],
   "source": [
    "peft_model.save_pretrained(\"../result/japanese-large-lm-3.6b-instruction-sft-r256/\")"
   ]
  }
 ],
 "metadata": {
  "kernelspec": {
   "display_name": "Python 3 (ipykernel)",
   "language": "python",
   "name": "python3"
  },
  "language_info": {
   "codemirror_mode": {
    "name": "ipython",
    "version": 3
   },
   "file_extension": ".py",
   "mimetype": "text/x-python",
   "name": "python",
   "nbconvert_exporter": "python",
   "pygments_lexer": "ipython3",
   "version": "3.10.12"
  }
 },
 "nbformat": 4,
 "nbformat_minor": 5
}
