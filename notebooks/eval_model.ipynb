{
 "cells": [
  {
   "cell_type": "code",
   "execution_count": 1,
   "id": "015c2965-e8fb-4017-b1b5-6f0674693d43",
   "metadata": {},
   "outputs": [],
   "source": [
    "import sys\n",
    "\n",
    "sys.path.append(\"..\")\n",
    "import pandas as pd\n",
    "from utils.measure_resource import gpu_information\n",
    "from utils.generate import generate_answer\n",
    "from transformers import AutoModelForCausalLM, AutoTokenizer\n",
    "from datasets import load_dataset"
   ]
  },
  {
   "cell_type": "code",
   "execution_count": null,
   "id": "5da8d159-580e-4ee8-9212-994ccea6136e",
   "metadata": {},
   "outputs": [],
   "source": [
    "base_tokenizer_name = \"line-corporation/japanese-large-lm-3.6b-instruction-sft\"\n",
    "tokenizer = AutoTokenizer.from_pretrained(base_tokenizer_name, use_fast=False)"
   ]
  },
  {
   "cell_type": "code",
   "execution_count": null,
   "id": "95d3eeb3-a0be-4c18-a614-d15b90f54e95",
   "metadata": {},
   "outputs": [],
   "source": [
    "base_model_name = \"../result/japanese-large-lm-3.6b-instruction-sft-r256\"\n",
    "model = AutoModelForCausalLM.from_pretrained(base_model_name, device_map=\"auto\")"
   ]
  },
  {
   "cell_type": "markdown",
   "id": "cf9ca5cc-e241-4ebd-aef6-02e88e5bf4ed",
   "metadata": {},
   "source": [
    "### deviceの確認"
   ]
  },
  {
   "cell_type": "code",
   "execution_count": 6,
   "id": "4ffed798-4614-42a8-beeb-55da008610dd",
   "metadata": {},
   "outputs": [
    {
     "name": "stdout",
     "output_type": "stream",
     "text": [
      "-----------------\n",
      "device_name = NVIDIA RTX 6000 Ada Generation\n",
      "-----------------\n",
      "is_available = True\n",
      "-----------------\n",
      "device_count = 2\n",
      "-----------------\n"
     ]
    }
   ],
   "source": [
    "gpu_information()"
   ]
  },
  {
   "cell_type": "markdown",
   "id": "97995fea-b980-4241-b13d-93d3d2202c9c",
   "metadata": {},
   "source": [
    "### datasetの読み込み"
   ]
  },
  {
   "cell_type": "code",
   "execution_count": 7,
   "id": "4bdebdf6-973d-4a2a-8b12-06cffd1d0deb",
   "metadata": {},
   "outputs": [],
   "source": [
    "ds = load_dataset(\"elyza/ELYZA-tasks-100\")"
   ]
  },
  {
   "cell_type": "markdown",
   "id": "d373eafb-66f6-42dc-bec4-c4db796f01ae",
   "metadata": {},
   "source": [
    "### 推論処理の実行"
   ]
  },
  {
   "cell_type": "markdown",
   "id": "5faaff49-ed3d-43fd-8717-bc7a8af45ee0",
   "metadata": {},
   "source": [
    "pandasにテキスト類全部読み込んでapplyで推論処理をさせる方針で行う"
   ]
  },
  {
   "cell_type": "code",
   "execution_count": 12,
   "id": "a938f7cb-6a3f-4535-8e11-424136b101a4",
   "metadata": {},
   "outputs": [],
   "source": [
    "df_ds_test = pd.DataFrame(list(ds[\"test\"]))"
   ]
  },
  {
   "cell_type": "code",
   "execution_count": 14,
   "id": "9b48702e-8ca3-478a-9017-288f5d317efa",
   "metadata": {},
   "outputs": [],
   "source": [
    "experiment_text = df_ds_test[\"input\"][0]"
   ]
  },
  {
   "cell_type": "code",
   "execution_count": 15,
   "id": "919ea79d-0c18-4a3e-9e12-87e6dbb45704",
   "metadata": {},
   "outputs": [
    {
     "name": "stdout",
     "output_type": "stream",
     "text": [
      "仕事の熱意を取り戻すためのアイデアを5つ挙げてください。\n"
     ]
    }
   ],
   "source": [
    "print(experiment_text)"
   ]
  },
  {
   "cell_type": "code",
   "execution_count": null,
   "id": "27100f98-73a9-4f55-84f4-cb78f73e47d5",
   "metadata": {},
   "outputs": [],
   "source": [
    "print(generate_answer(experiment_text, tokenizer=tokenizer, model=model))"
   ]
  },
  {
   "cell_type": "code",
   "execution_count": 17,
   "id": "08a2b0f9-66d0-41b0-b1e5-5e90417a1e85",
   "metadata": {},
   "outputs": [],
   "source": [
    "df_ds_test[\"pred\"] = df_ds_test[\"input\"].apply(\n",
    "    lambda text: generate_answer(text, tokenizer=tokenizer, model=model)\n",
    ")"
   ]
  },
  {
   "cell_type": "code",
   "execution_count": 19,
   "id": "d9b3ed99-bbc2-4a15-bd7c-212be8f3a0c8",
   "metadata": {},
   "outputs": [],
   "source": [
    "df_ds_test.to_csv(\"../data/result/sft_japanese_large_3.6b.csv\")"
   ]
  }
 ],
 "metadata": {
  "kernelspec": {
   "display_name": "Python 3 (ipykernel)",
   "language": "python",
   "name": "python3"
  },
  "language_info": {
   "codemirror_mode": {
    "name": "ipython",
    "version": 3
   },
   "file_extension": ".py",
   "mimetype": "text/x-python",
   "name": "python",
   "nbconvert_exporter": "python",
   "pygments_lexer": "ipython3",
   "version": "3.10.12"
  }
 },
 "nbformat": 4,
 "nbformat_minor": 5
}
